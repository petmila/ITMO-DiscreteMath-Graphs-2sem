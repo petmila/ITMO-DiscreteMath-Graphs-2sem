{
 "cells": [
  {
   "cell_type": "markdown",
   "metadata": {},
   "source": [
    "HomeWork_5\n",
    "\n",
    "Петренко, М3104\n",
    "\n",
    "Задание 1\n",
    "\n",
    "Примечание: jupyter notebook для задания 1 есть в репозитории по ссылке https://github.com/petmila/My_graphs_discrete_math"
   ]
  },
  {
   "cell_type": "markdown",
   "metadata": {},
   "source": [
    "(a) Нарисовано с помощью сайта https://programforyou.ru/graph-redactor добавлением вершин и ребер вручную.\n",
    "\n",
    "<img src=\"graph_europe.png\"> "
   ]
  },
  {
   "cell_type": "code",
   "execution_count": 131,
   "metadata": {},
   "outputs": [],
   "source": [
    "import itertools\n",
    "import matplotlib.pyplot as plt\n",
    "import networkx as nx\n",
    "import numpy.random as rnd\n",
    "\n",
    "class Europe:\n",
    "    def __init__(self):\n",
    "        self.graph = nx.read_edgelist(\"graph.txt\")  # создание графа по списку ребер из файла(файл есть в репозитории)\n",
    "        self.graph.add_node('Malta')\n",
    "        self.graph.add_node('Iceland')  # добавляю островные государства\n",
    "        self.graph.add_node('Cyprus')\n",
    "        self.nodes_number = self.graph.number_of_nodes()\n",
    "        self.edges_number = self.graph.number_of_edges()\n",
    "\n",
    "        subgraphs = list(nx.connected_components(self.graph))\n",
    "        nodes_list = {}\n",
    "        for subgraph in subgraphs:\n",
    "            if len(subgraph) > len(nodes_list):\n",
    "                nodes_list = subgraph\n",
    "        self.largest_connected_component = nx.subgraph(self.graph, nodes_list)\n",
    "\n",
    "        self.degree = nx.degree(self.largest_connected_component)  # массив степеней всех вершин\n",
    "        min_degree = self.nodes_number + 1\n",
    "        max_degree = 0\n",
    "        for node in self.degree:\n",
    "            if node[1] < min_degree:\n",
    "                min_degree = node[1]\n",
    "            if node[1] > max_degree:\n",
    "                max_degree = node[1]\n",
    "        self.min_degree = min_degree\n",
    "        self.max_degree = max_degree\n",
    "\n",
    "        self.v_coloring = nx.greedy_color(self.graph) # множество пар (вершина : номер цвета)\n",
    "        self.min_vertex_coloring = max(self.v_coloring.values())\n",
    "        \n",
    "        self.dual = nx.line_graph(self.graph) # создание дуального графа\n",
    "        self.e_coloring = nx.greedy_color(self.dual)\n",
    "        self.min_edge_coloring = max(self.e_coloring.values())\n",
    "\n",
    "        cliques = list(nx.find_cliques(self.graph))\n",
    "        self.max_clique = cliques[0]\n",
    "        for clique in cliques:\n",
    "            if len(self.max_clique) < len(clique):\n",
    "                self.max_clique = clique\n",
    "            \n",
    "        self.max_stable_set = nx.maximal_independent_set(self.graph)\n",
    "        self.max_matching = nx.max_weight_matching(self.graph)\n",
    "\n",
    "\n",
    "\n",
    "    def number_of_nodes(self):\n",
    "        print(\"Number of nodes:\", self.nodes_number)\n",
    "\n",
    "    def number_of_edges(self):\n",
    "        print(\"Number of edges:\", self.edges_number)\n",
    "\n",
    "    def degree(self):\n",
    "        print(\"Minimum degree:\", self.min_degree)\n",
    "        print(\"Maximum degree:\", self.max_degree)\n",
    "\n",
    "    def diameter(self):\n",
    "        print(\"Diameter:\", nx.diameter(self.largest_connected_component))\n",
    "\n",
    "    def center(self):\n",
    "        print(\"Center:\", nx.center(self.largest_connected_component))\n",
    "\n",
    "    def radius(self):\n",
    "        print(\"Radius:\", nx.radius(self.largest_connected_component))\n",
    "\n",
    "    def girth(self):\n",
    "        subgraphs = list(nx.minimum_cycle_basis(self.largest_connected_component))\n",
    "        nodes_list = self.nodes_number * [0]\n",
    "        for subgraph in subgraphs:\n",
    "            if len(subgraph) < len(nodes_list):\n",
    "                nodes_list = subgraph\n",
    "        print(\"Girth:\", len(nodes_list))\n",
    "    \n",
    "    def vertex_coloring(self):\n",
    "        print(\"Minimum vertex coloring:\", self.min_vertex_coloring)\n",
    "\n",
    "    def edge_coloring(self):\n",
    "        print(\"Minimum edge coloring:\", self.min_edge_coloring)\n",
    "\n",
    "    def maximum_clique(self):\n",
    "        print(\"Maximum clique:\", self.max_clique)\n",
    "\n",
    "    def maximum_stable_set(self):\n",
    "        print(\"Maximum stable set:\", self.max_stable_set)\n",
    "\n",
    "    def maximum_matching(self):\n",
    "        print(\"Maximum matching:\", self.max_matching)\n",
    "\n"
   ]
  },
  {
   "cell_type": "markdown",
   "metadata": {},
   "source": [
    "(b)"
   ]
  },
  {
   "cell_type": "code",
   "execution_count": 132,
   "metadata": {},
   "outputs": [
    {
     "name": "stdout",
     "output_type": "stream",
     "text": [
      "Number of edges: 92\n",
      "Number of nodes: 50\n",
      "Diameter: 8\n",
      "Center: ['Poland']\n",
      "Radius: 4\n",
      "Girth: 3\n"
     ]
    }
   ],
   "source": [
    "europe = Europe()\n",
    "europe.number_of_edges()\n",
    "europe.number_of_nodes()\n",
    "europe.degree()\n",
    "europe.diameter()\n",
    "europe.center()\n",
    "europe.radius()\n",
    "europe.girth()\n"
   ]
  },
  {
   "cell_type": "markdown",
   "metadata": {},
   "source": [
    "(c)"
   ]
  },
  {
   "cell_type": "code",
   "execution_count": 133,
   "metadata": {},
   "outputs": [
    {
     "name": "stdout",
     "output_type": "stream",
     "text": [
      "Minimum vertex coloring: 4\n"
     ]
    }
   ],
   "source": [
    "europe.vertex_coloring()"
   ]
  },
  {
   "cell_type": "markdown",
   "metadata": {},
   "source": [
    "(d)\n"
   ]
  },
  {
   "cell_type": "code",
   "execution_count": 134,
   "metadata": {},
   "outputs": [
    {
     "name": "stdout",
     "output_type": "stream",
     "text": [
      "Minimum edge coloring: 8\n"
     ]
    }
   ],
   "source": [
    "europe.edge_coloring()"
   ]
  },
  {
   "cell_type": "markdown",
   "metadata": {},
   "source": [
    "(e)"
   ]
  },
  {
   "cell_type": "code",
   "execution_count": 135,
   "metadata": {},
   "outputs": [
    {
     "name": "stdout",
     "output_type": "stream",
     "text": [
      "Maximum clique: ['Latvia', 'Russia', 'Belarus', 'Lithuania']\n"
     ]
    }
   ],
   "source": [
    "europe.maximum_clique()"
   ]
  },
  {
   "cell_type": "markdown",
   "metadata": {},
   "source": [
    "(f)"
   ]
  },
  {
   "cell_type": "code",
   "execution_count": 136,
   "metadata": {},
   "outputs": [
    {
     "name": "stdout",
     "output_type": "stream",
     "text": [
      "Maximum stable set: ['Armenia', 'Sweden', 'Albania', 'Russia', 'Switzerland', 'Czech_Republic', 'Slovenia', 'Iceland', 'Ireland', 'Netherlands', 'Portugal', 'Bulgaria', 'Montenegro', 'Andorra', 'Slovakia', 'Cyprus', 'Moldova', 'Denmark', 'Vatican_City', 'Luxembourg', 'Malta', 'Monaco', 'San_Marino']\n"
     ]
    }
   ],
   "source": [
    "europe.maximum_stable_set()"
   ]
  },
  {
   "cell_type": "markdown",
   "metadata": {},
   "source": [
    "(g)"
   ]
  },
  {
   "cell_type": "code",
   "execution_count": 137,
   "metadata": {},
   "outputs": [
    {
     "name": "stdout",
     "output_type": "stream",
     "text": [
      "Maximum matching: {('Czech-Republic', 'Slovakia'), ('Norway', 'Sweden'), ('North_Macedonia', 'Albania'), ('Finland', 'Russia'), ('Poland', 'Ukraine'), ('Bosnia_and_Herzegovina', 'Croatia'), ('Hungary', 'Slovenia'), ('Liechtenstein', 'Switzerland'), ('Czech_Republic', 'Austria'), ('Denmark', 'Germany'), ('Estonia', 'Latvia'), ('Vatican_City', 'Italy'), ('Armenia', 'Georgia'), ('Portugal', 'Spain'), ('Lithuania', 'Belarus'), ('United_Kingdom', 'Ireland'), ('Montenegro', 'Kosovo'), ('Moldova', 'Romania'), ('Monaco', 'France'), ('Bulgaria', 'Serbia'), ('Turkey', 'Greece'), ('Netherlands', 'Belgium')}\n"
     ]
    }
   ],
   "source": [
    "europe.maximum_matching()"
   ]
  }
 ],
 "metadata": {
  "kernelspec": {
   "display_name": "Python 3",
   "language": "python",
   "name": "python3"
  },
  "language_info": {
   "codemirror_mode": {
    "name": "ipython",
    "version": 3
   },
   "file_extension": ".py",
   "mimetype": "text/x-python",
   "name": "python",
   "nbconvert_exporter": "python",
   "pygments_lexer": "ipython3",
   "version": "3.8.1"
  },
  "pycharm": {
   "stem_cell": {
    "cell_type": "raw",
    "metadata": {
     "collapsed": false
    },
    "source": [
     "\n",
     "\n",
     "\n"
    ]
   }
  }
 },
 "nbformat": 4,
 "nbformat_minor": 0
}

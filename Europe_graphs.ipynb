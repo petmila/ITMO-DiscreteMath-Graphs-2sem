{
 "cells": [
  {
   "cell_type": "markdown",
   "metadata": {},
   "source": [
    "HomeWork_5\n",
    "\n",
    "Петренко, М3104\n",
    "\n",
    "Задание 1\n",
    "\n",
    "Примечание: jupyter notebook для задания 1 и файл со списком ребер есть в репозитории по ссылке https://github.com/petmila/My_graphs_discrete_math"
   ]
  },
  {
   "cell_type": "markdown",
   "metadata": {},
   "source": [
    "(a) Нарисовано с помощью сайта https://programforyou.ru/graph-redactor добавлением вершин и ребер вручную.\n",
    "\n",
    "<img src=\"graph_europe.png\"> "
   ]
  },
  {
   "cell_type": "markdown",
   "metadata": {},
   "source": [
    "Список вершин и их географических координат:"
   ]
  },
  {
   "cell_type": "code",
   "execution_count": 233,
   "metadata": {},
   "outputs": [],
   "source": [
    "geolock = {\"Armenia\":{\"height\": 40,\"width\": 44},\n",
    "           \"Albania\":{\"height\": 41,\"width\": 19},\n",
    "           \"Andorra\":{\"height\": 42,\"width\": 1},\n",
    "           \"Austria\":{\"height\": 48,\"width\": 16},\n",
    "           \"Belarus\":{\"height\": 53,\"width\": 27},\n",
    "           \"Belgium\":{\"height\": 50,\"width\": 4},\n",
    "           \"Bosnia_and_Herzegovina\":{\"height\": 43,\"width\": 18},\n",
    "           \"Bulgaria\":{\"height\": 42,\"width\": 23},\n",
    "           \"Croatia\":{\"height\": 45,\"width\": 15},\n",
    "           \"Czech_Republic\":{\"height\": 50,\"width\": 14},\n",
    "           \"Denmark\":{\"height\": 55,\"width\": 12},\n",
    "           \"Estonia\":{\"height\": 59,\"width\": 24},\n",
    "           \"Finland\":{\"height\": 60,\"width\": 24},\n",
    "           \"France\":{\"height\": 48,\"width\": 2},\n",
    "           \"Germany\":{\"height\": 52,\"width\": 13},\n",
    "           \"Georgia\":{\"height\": 41,\"width\": 44},\n",
    "           \"Greece\":{\"height\": 37,\"width\": 23},\n",
    "           \"Hungary\":{\"height\": 47,\"width\": 19},\n",
    "           \"Iceland\":{\"height\": 64,\"width\": 21},\n",
    "           \"Ireland\":{\"height\": 53,\"width\": 6},\n",
    "           \"Italy\":{\"height\": 41,\"width\": 12},\n",
    "           \"Kosovo\":{\"height\": 42,\"width\": 21},\n",
    "           \"Latvia\":{\"height\": 56,\"width\": 24},\n",
    "           \"Liechtenstein\":{\"height\": 47,\"width\": 9},\n",
    "           \"Lithuania\":{\"height\": 54,\"width\": 25},\n",
    "           \"Luxembourg\":{\"height\": 49,\"width\": 6},\n",
    "           \"Malta\":{\"height\": 35,\"width\": 14},\n",
    "           \"Moldova\":{\"height\": 47,\"width\": 28},\n",
    "           \"Monaco\":{\"height\": 47,\"width\": 9},\n",
    "           \"Montenegro\":{\"height\": 42,\"width\": 19},\n",
    "           \"Netherlands\":{\"height\": 52,\"width\": 4},\n",
    "           \"North_Macedonia\":{\"height\": 41,\"width\": 21},\n",
    "           \"Norway\":{\"height\": 59,\"width\": 10},\n",
    "           \"Poland\":{\"height\": 52,\"width\": 21},\n",
    "           \"Portugal\":{\"height\": 38,\"width\": 9},\n",
    "           \"Romania\":{\"height\": 47,\"width\": 19},\n",
    "           \"Russia\":{\"height\": 55,\"width\": 37},\n",
    "           \"San_Marino\":{\"height\": 43,\"width\": 12},\n",
    "           \"Serbia\":{\"height\": 44,\"width\": 20},\n",
    "           \"Slovakia\":{\"height\": 48,\"width\": 17},\n",
    "           \"Slovenia\":{\"height\": 46,\"width\": 14},\n",
    "           \"Spain\":{\"height\": 40,\"width\": 3},\n",
    "           \"Sweden\":{\"height\": 59,\"width\": 18},\n",
    "           \"Switzerland\":{\"height\": 46,\"width\": 7},\n",
    "           \"Turkey\":{\"height\": 39,\"width\": 32},\n",
    "           \"Ukraine\":{\"height\": 50,\"width\": 30},\n",
    "           \"United_Kingdom\":{\"height\": 51,\"width\": 0},\n",
    "           \"Vatican_City\":{\"height\": 41,\"width\": 12},\n",
    "           }"
   ]
  },
  {
   "cell_type": "code",
   "execution_count": 234,
   "metadata": {},
   "outputs": [],
   "source": [
    "import itertools\n",
    "import matplotlib.pyplot as plt\n",
    "import networkx as nx\n",
    "import numpy.random as rnd\n",
    "import haversine\n",
    "\n",
    "class Europe:\n",
    "    def __init__(self):\n",
    "        # создание графа по списку ребер из файла(файл есть в репозитории)\n",
    "        self.graph = nx.read_edgelist(\"graph.txt\")\n",
    "        # добавляю островные государства  \n",
    "        self.graph.add_node('Malta')\n",
    "        self.graph.add_node('Iceland')  \n",
    "        self.graph.add_node('Cyprus')\n",
    "\n",
    "        # мощности множеств вершин и ребер графа\n",
    "        self.nodes_number = self.graph.number_of_nodes() \n",
    "        self.edges_number = self.graph.number_of_edges()\n",
    "\n",
    "        # поиск наибольшей компоненты связности из списка всех компонент\n",
    "        subgraphs = list(nx.connected_components(self.graph))\n",
    "        self.connected_nodes_list = {}\n",
    "        for subgraph in subgraphs:\n",
    "            if len(subgraph) > len(self.connected_nodes_list):\n",
    "                self.connected_nodes_list = subgraph\n",
    "        self.largest_connected_component = nx.subgraph(self.graph, self.connected_nodes_list)\n",
    "\n",
    "        # массив степеней всех вершин, чтобы найти минимальную и максимальную\n",
    "        self.degree = nx.degree(self.largest_connected_component)  \n",
    "        min_degree = self.nodes_number + 1\n",
    "        max_degree = 0\n",
    "        for node in self.degree:\n",
    "            if node[1] < min_degree:\n",
    "                min_degree = node[1]\n",
    "            if node[1] > max_degree:\n",
    "                max_degree = node[1]\n",
    "        self.min_degree = min_degree\n",
    "        self.max_degree = max_degree\n",
    "\n",
    "        # раскраска - множество пар (вершина : номер цвета)\n",
    "        self.v_coloring = nx.greedy_color(self.largest_connected_component) \n",
    "        # создание дуального графа и получение раскраски для ребер тем же способом\n",
    "        self.dual = nx.line_graph(self.largest_connected_component) \n",
    "        self.e_coloring = nx.greedy_color(self.dual)\n",
    "\n",
    "        cliques = list(nx.find_cliques(self.largest_connected_component))\n",
    "        self.max_clique = cliques[0]\n",
    "        for clique in cliques:\n",
    "            if len(self.max_clique) < len(clique):\n",
    "                self.max_clique = clique\n",
    "            \n",
    "        self.max_stable_set = nx.maximal_independent_set(self.largest_connected_component)\n",
    "\n",
    "        # для невзвешенного графа дефолтны1 вес = 1, так что она посчитает просто количество ребер\n",
    "        self.max_matching = nx.max_weight_matching(self.largest_connected_component)\n",
    "\n",
    "        self.v_cover = nx.approximation.min_weighted_vertex_cover(self.largest_connected_component)\n",
    "        self.e_cover = nx.min_edge_cover(self.largest_connected_component)\n",
    "\n",
    "        self.blocks = list(nx.biconnected_components(self.graph))\n",
    "\n",
    "\n",
    "    def number_of_nodes(self):\n",
    "        print(\"Number of nodes:\", self.nodes_number)\n",
    "\n",
    "    def number_of_edges(self):\n",
    "        print(\"Number of edges:\", self.edges_number)\n",
    "\n",
    "    def degree(self):\n",
    "        print(\"Minimum degree:\", self.min_degree)\n",
    "        print(\"Maximum degree:\", self.max_degree)\n",
    "\n",
    "    def diameter(self):\n",
    "        print(\"Diameter:\", nx.diameter(self.largest_connected_component))\n",
    "\n",
    "    def center(self):\n",
    "        print(\"Center:\", nx.center(self.largest_connected_component))\n",
    "\n",
    "    def radius(self):\n",
    "        print(\"Radius:\", nx.radius(self.largest_connected_component))\n",
    "\n",
    "    def girth(self):\n",
    "        # поиск длины минимального цикла\n",
    "        subgraphs = list(nx.minimum_cycle_basis(self.largest_connected_component))\n",
    "        nodes_list = self.nodes_number * [0]\n",
    "        for subgraph in subgraphs:\n",
    "            if len(subgraph) < len(nodes_list):\n",
    "                nodes_list = subgraph\n",
    "        print(\"Girth:\", len(nodes_list))\n",
    "    \n",
    "    def vertex_coloring(self):\n",
    "        print(\"Minimum vertex coloring:\", max(self.v_coloring.values()))\n",
    "\n",
    "    def edge_coloring(self):\n",
    "        print(\"Minimum edge coloring:\", max(self.e_coloring.values()))\n",
    "\n",
    "    def maximum_clique(self):\n",
    "        print(\"Maximum clique:\", self.max_clique)\n",
    "\n",
    "    def maximum_stable_set(self):\n",
    "        print(\"Maximum stable set:\", self.max_stable_set)\n",
    "\n",
    "    def maximum_matching(self):\n",
    "        print(\"Maximum matching:\", self.max_matching)\n",
    "\n",
    "    def minimum_vertex_cover(self):\n",
    "        print(\"Minimum vertex cover:\", self.v_cover)\n",
    "    \n",
    "    def minimum_edge_cover(self):\n",
    "        print(\"Minimum edge cover:\", self.e_cover)\n",
    "\n",
    "    def shortest_closed_walk_vertexes(self):\n",
    "        # получаем список вершин\n",
    "        self.tsp = (nx.algorithms.approximation.traveling_salesman_problem(self.largest_connected_component))\n",
    "        print(\"Shortest closed walk, which visits every vetrex:\\n\")\n",
    "        i = 0\n",
    "        # вывод ребер, инцидентных вершинам из списка и самих вершин\n",
    "        while i < (len(self.tsp) - 4):\n",
    "            print(self.tsp[i], (self.tsp[i], self.tsp[i + 1]),\n",
    "            self.tsp[i + 1], (self.tsp[i + 1], self.tsp[i + 2]),\n",
    "            self.tsp[i + 2], (self.tsp[i + 2], self.tsp[i + 3]),\n",
    "            self.tsp[i + 3], (self.tsp[i + 3], self.tsp[i + 4]))\n",
    "            i += 4\n",
    "        print(self.tsp[len(self.tsp) - 1])\n",
    "\n",
    "    def shortest_closed_walk_edges(self):\n",
    "        print(\"Shortest closed walk, which visits every edge:\\n\")\n",
    "        # eulerize добавляет кратные ребра так, чтобы в не эйлеровом графе можно было построить ейлеров путь\n",
    "        self.list_euler = list(nx.eulerian_circuit(nx.eulerize(self.largest_connected_component)))\n",
    "        i = 0\n",
    "        # вывод ребер из списка и вершин, им инцидентных\n",
    "        print(self.list_euler[0][0])\n",
    "        while i < (len(self.list_euler) - 4):\n",
    "            print(self.list_euler[i], self.list_euler[i][1],\n",
    "            self.list_euler[i + 1], self.list_euler[i + 1][1],\n",
    "            self.list_euler[i + 2], self.list_euler[i + 2][1],\n",
    "            self.list_euler[i + 3], self.list_euler[i + 3][1])\n",
    "            i += 4\n",
    "\n",
    "    def all_blocks(self):\n",
    "        print(\"Biconnected components:\")\n",
    "        for item in self.blocks:\n",
    "            print(item)\n",
    "\n",
    "    def all_2_edge_connected_components(self):\n",
    "        print(\"2-edge-connected components:\")\n",
    "        for item in list(nx.biconnected_component_edges(self.graph)):\n",
    "            print(item)\n",
    "\n",
    "    def make_weighted_graph(self):\n",
    "        self.weighted_graph = nx.read_edgelist(\"graph.txt\")  # создание графа по списку ребер из файла(файл есть в репозитории)\n",
    "        self.weighted_graph.add_node('Malta')\n",
    "        self.weighted_graph.add_node('Iceland')  # добавляю островные государства\n",
    "        self.weighted_graph.add_node('Cyprus')\n",
    "\n",
    "        nx.set_node_attributes(self.weighted_graph, geolock)\n",
    "        edges_weight = {}\n",
    "        # расчет весов как расстояний между географическими координатами городов\n",
    "        for item in nx.edges(self.weighted_graph):\n",
    "            edges_weight[item] = int(haversine.haversine((self.weighted_graph.nodes[item[0]][\"height\"], self.weighted_graph.nodes[item[0]][\"width\"]),\n",
    "            (self.weighted_graph.nodes[item[1]][\"height\"],self.weighted_graph.nodes[item[1]][\"width\"])))\n",
    "        nx.set_edge_attributes(self.weighted_graph , edges_weight, 'weight')\n",
    "\n",
    "        self.largest_weighted_connected_component = nx.subgraph(self.weighted_graph, self.connected_nodes_list)\n",
    "    \n",
    "    def spanning_tree(self):\n",
    "        self.minimum_spanning_tree = nx.minimum_spanning_tree(self.largest_weighted_connected_component)\n",
    "        print(\"Minimum_spanning_tree:\")\n",
    "        return self.minimum_spanning_tree\n",
    "    \n",
    "    def prufer(self):\n",
    "        print(\"Prufer code:\", nx.to_prufer_sequence(nx.convert_node_labels_to_integers(self.minimum_spanning_tree)))"
   ]
  },
  {
   "cell_type": "markdown",
   "metadata": {},
   "source": [
    "(b)"
   ]
  },
  {
   "cell_type": "code",
   "execution_count": 235,
   "metadata": {},
   "outputs": [
    {
     "name": "stdout",
     "output_type": "stream",
     "text": [
      "Number of edges: 92\n",
      "Number of nodes: 49\n",
      "Diameter: 8\n",
      "Center: ['Poland']\n",
      "Radius: 4\n",
      "Girth: 3\n"
     ]
    }
   ],
   "source": [
    "europe = Europe()\n",
    "europe.number_of_edges()\n",
    "europe.number_of_nodes()\n",
    "europe.degree()\n",
    "europe.diameter()\n",
    "europe.center()\n",
    "europe.radius()\n",
    "europe.girth()\n"
   ]
  },
  {
   "cell_type": "markdown",
   "metadata": {},
   "source": [
    "Очевидно, что если в графе есть вершины, связанные с остальным графом только одним ребром, то:\n",
    "\n",
    "𝜘(G) = 1 - минимальное число вершин, удалив которые, мы сделаем граф несвязным. \n",
    "\n",
    "𝜆(G) = 1 - минимальное число ребер, удалив которые, мы сделаем граф несвязным."
   ]
  },
  {
   "cell_type": "markdown",
   "metadata": {},
   "source": [
    "(c)"
   ]
  },
  {
   "cell_type": "code",
   "execution_count": 236,
   "metadata": {},
   "outputs": [
    {
     "name": "stdout",
     "output_type": "stream",
     "text": [
      "Minimum vertex coloring: 4\n"
     ]
    }
   ],
   "source": [
    "europe.vertex_coloring()"
   ]
  },
  {
   "cell_type": "markdown",
   "metadata": {},
   "source": [
    "(d)\n"
   ]
  },
  {
   "cell_type": "code",
   "execution_count": 237,
   "metadata": {},
   "outputs": [
    {
     "name": "stdout",
     "output_type": "stream",
     "text": [
      "Minimum edge coloring: 8\n"
     ]
    }
   ],
   "source": [
    "europe.edge_coloring()"
   ]
  },
  {
   "cell_type": "markdown",
   "metadata": {},
   "source": [
    "(e)"
   ]
  },
  {
   "cell_type": "code",
   "execution_count": 238,
   "metadata": {},
   "outputs": [
    {
     "name": "stdout",
     "output_type": "stream",
     "text": [
      "Maximum clique: ['Belarus', 'Russia', 'Lithuania', 'Latvia']\n"
     ]
    }
   ],
   "source": [
    "europe.maximum_clique()"
   ]
  },
  {
   "cell_type": "markdown",
   "metadata": {},
   "source": [
    "(f)"
   ]
  },
  {
   "cell_type": "code",
   "execution_count": 239,
   "metadata": {},
   "outputs": [
    {
     "name": "stdout",
     "output_type": "stream",
     "text": [
      "Maximum stable set: ['Russia', 'Czech_Republic', 'Luxembourg', 'Montenegro', 'Slovenia', 'Romania', 'Armenia', 'Portugal', 'Denmark', 'North_Macedonia', 'Netherlands', 'Andorra', 'Sweden', 'San_Marino', 'Liechtenstein', 'Vatican_City', 'Monaco']\n"
     ]
    }
   ],
   "source": [
    "europe.maximum_stable_set()"
   ]
  },
  {
   "cell_type": "markdown",
   "metadata": {},
   "source": [
    "(g)"
   ]
  },
  {
   "cell_type": "code",
   "execution_count": 240,
   "metadata": {},
   "outputs": [
    {
     "name": "stdout",
     "output_type": "stream",
     "text": [
      "Maximum matching: {('Moldova', 'Romania'), ('Ukraine', 'Slovakia'), ('North_Macedonia', 'Albania'), ('Lithuania', 'Belarus'), ('Montenegro', 'Bosnia_and_Herzegovina'), ('Croatia', 'Hungary'), ('Bulgaria', 'Greece'), ('Poland', 'Czech_Republic'), ('Austria', 'Slovenia'), ('Estonia', 'Latvia'), ('Norway', 'Sweden'), ('Liechtenstein', 'Switzerland'), ('Turkey', 'Armenia'), ('Kosovo', 'Serbia'), ('Finland', 'Russia'), ('Monaco', 'France'), ('Vatican_City', 'Italy'), ('Portugal', 'Spain'), ('Netherlands', 'Belgium'), ('Denmark', 'Germany')}\n"
     ]
    }
   ],
   "source": [
    "europe.maximum_matching()"
   ]
  },
  {
   "cell_type": "markdown",
   "metadata": {},
   "source": [
    "(h)"
   ]
  },
  {
   "cell_type": "code",
   "execution_count": 241,
   "metadata": {},
   "outputs": [
    {
     "name": "stdout",
     "output_type": "stream",
     "text": [
      "Minimum vertex cover: {'Belarus', 'Czech_Republic', 'Croatia', 'Hungary', 'Greece', 'Slovenia', 'Spain', 'North_Macedonia', 'Bulgaria', 'Austria', 'Ukraine', 'Serbia', 'Latvia', 'Germany', 'Romania', 'France', 'Switzerland', 'Finland', 'Georgia', 'Poland', 'Kosovo', 'Armenia', 'Belgium', 'Albania', 'Turkey', 'Slovakia', 'Bosnia_and_Herzegovina', 'Italy', 'Russia', 'Andorra', 'Sweden'}\n"
     ]
    }
   ],
   "source": [
    "europe.minimum_vertex_cover()"
   ]
  },
  {
   "cell_type": "markdown",
   "metadata": {},
   "source": [
    "(i)"
   ]
  },
  {
   "cell_type": "code",
   "execution_count": 242,
   "metadata": {},
   "outputs": [
    {
     "name": "stdout",
     "output_type": "stream",
     "text": [
      "Minimum edge cover: {('Moldova', 'Romania'), ('Belgium', 'Luxembourg'), ('Ukraine', 'Slovakia'), ('North_Macedonia', 'Albania'), ('Lithuania', 'Belarus'), ('Georgia', 'Armenia'), ('Andorra', 'Spain'), ('Montenegro', 'Bosnia_and_Herzegovina'), ('Luxembourg', 'Belgium'), ('Croatia', 'Hungary'), ('Armenia', 'Georgia'), ('Bulgaria', 'Greece'), ('Poland', 'Czech_Republic'), ('Spain', 'Andorra'), ('Austria', 'Slovenia'), ('Estonia', 'Latvia'), ('Norway', 'Sweden'), ('Liechtenstein', 'Switzerland'), ('Italy', 'San_Marino'), ('Turkey', 'Armenia'), ('Kosovo', 'Serbia'), ('San_Marino', 'Italy'), ('Finland', 'Russia'), ('Monaco', 'France'), ('Vatican_City', 'Italy'), ('Portugal', 'Spain'), ('Netherlands', 'Belgium'), ('Denmark', 'Germany')}\n"
     ]
    }
   ],
   "source": [
    "europe.minimum_edge_cover()"
   ]
  },
  {
   "cell_type": "markdown",
   "metadata": {},
   "source": [
    "(j)"
   ]
  },
  {
   "cell_type": "code",
   "execution_count": 243,
   "metadata": {},
   "outputs": [
    {
     "name": "stdout",
     "output_type": "stream",
     "text": [
      "Shortest closed walk, which visits every vetrex:\n",
      "\n",
      "Armenia ('Armenia', 'Georgia') Georgia ('Georgia', 'Russia') Russia ('Russia', 'Norway') Norway ('Norway', 'Sweden')\n",
      "Sweden ('Sweden', 'Finland') Finland ('Finland', 'Russia') Russia ('Russia', 'Estonia') Estonia ('Estonia', 'Latvia')\n",
      "Latvia ('Latvia', 'Belarus') Belarus ('Belarus', 'Lithuania') Lithuania ('Lithuania', 'Poland') Poland ('Poland', 'Germany')\n",
      "Germany ('Germany', 'Denmark') Denmark ('Denmark', 'Germany') Germany ('Germany', 'Netherlands') Netherlands ('Netherlands', 'Belgium')\n",
      "Belgium ('Belgium', 'France') France ('France', 'Monaco') Monaco ('Monaco', 'France') France ('France', 'Luxembourg')\n",
      "Luxembourg ('Luxembourg', 'Germany') Germany ('Germany', 'Czech_Republic') Czech_Republic ('Czech_Republic', 'Austria') Austria ('Austria', 'Slovenia')\n",
      "Slovenia ('Slovenia', 'Croatia') Croatia ('Croatia', 'Serbia') Serbia ('Serbia', 'Montenegro') Montenegro ('Montenegro', 'Bosnia_and_Herzegovina')\n",
      "Bosnia_and_Herzegovina ('Bosnia_and_Herzegovina', 'Serbia') Serbia ('Serbia', 'Romania') Romania ('Romania', 'Moldova') Moldova ('Moldova', 'Ukraine')\n",
      "Ukraine ('Ukraine', 'Slovakia') Slovakia ('Slovakia', 'Austria') Austria ('Austria', 'Liechtenstein') Liechtenstein ('Liechtenstein', 'Switzerland')\n",
      "Switzerland ('Switzerland', 'Italy') Italy ('Italy', 'Vatican_City') Vatican_City ('Vatican_City', 'Italy') Italy ('Italy', 'San_Marino')\n",
      "San_Marino ('San_Marino', 'Italy') Italy ('Italy', 'France') France ('France', 'Spain') Spain ('Spain', 'Portugal')\n",
      "Portugal ('Portugal', 'Spain') Spain ('Spain', 'Andorra') Andorra ('Andorra', 'France') France ('France', 'Germany')\n",
      "Germany ('Germany', 'Austria') Austria ('Austria', 'Hungary') Hungary ('Hungary', 'Serbia') Serbia ('Serbia', 'Albania')\n",
      "Albania ('Albania', 'North_Macedonia') North_Macedonia ('North_Macedonia', 'Kosovo') Kosovo ('Kosovo', 'Albania') Albania ('Albania', 'Greece')\n",
      "Greece ('Greece', 'Turkey') Turkey ('Turkey', 'Bulgaria') Bulgaria ('Bulgaria', 'Turkey') Turkey ('Turkey', 'Armenia')\n",
      "Armenia\n"
     ]
    }
   ],
   "source": [
    "europe.shortest_closed_walk_vertexes()"
   ]
  },
  {
   "cell_type": "markdown",
   "metadata": {},
   "source": [
    "(k)"
   ]
  },
  {
   "cell_type": "code",
   "execution_count": 244,
   "metadata": {},
   "outputs": [
    {
     "name": "stdout",
     "output_type": "stream",
     "text": [
      "Shortest closed walk, which visits every edge:\n",
      "\n",
      "Armenia\n",
      "('Armenia', 'Georgia') Georgia ('Georgia', 'Russia') Russia ('Russia', 'Ukraine') Ukraine ('Ukraine', 'Romania') Romania\n",
      "('Romania', 'Moldova') Moldova ('Moldova', 'Ukraine') Ukraine ('Ukraine', 'Hungary') Hungary ('Hungary', 'Slovenia') Slovenia\n",
      "('Slovenia', 'Italy') Italy ('Italy', 'Vatican_City') Vatican_City ('Vatican_City', 'Italy') Italy ('Italy', 'San_Marino') San_Marino\n",
      "('San_Marino', 'Italy') Italy ('Italy', 'Switzerland') Switzerland ('Switzerland', 'Liechtenstein') Liechtenstein ('Liechtenstein', 'Austria') Austria\n",
      "('Austria', 'Switzerland') Switzerland ('Switzerland', 'Austria') Austria ('Austria', 'Slovenia') Slovenia ('Slovenia', 'Croatia') Croatia\n",
      "('Croatia', 'Montenegro') Montenegro ('Montenegro', 'Bosnia_and_Herzegovina') Bosnia_and_Herzegovina ('Bosnia_and_Herzegovina', 'Croatia') Croatia ('Croatia', 'Hungary') Hungary\n",
      "('Hungary', 'Ukraine') Ukraine ('Ukraine', 'Poland') Poland ('Poland', 'Lithuania') Lithuania ('Lithuania', 'Latvia') Latvia\n",
      "('Latvia', 'Russia') Russia ('Russia', 'Norway') Norway ('Norway', 'Finland') Finland ('Finland', 'Norway') Norway\n",
      "('Norway', 'Sweden') Sweden ('Sweden', 'Finland') Finland ('Finland', 'Russia') Russia ('Russia', 'Lithuania') Lithuania\n",
      "('Lithuania', 'Belarus') Belarus ('Belarus', 'Latvia') Latvia ('Latvia', 'Estonia') Estonia ('Estonia', 'Russia') Russia\n",
      "('Russia', 'Poland') Poland ('Poland', 'Belarus') Belarus ('Belarus', 'Poland') Poland ('Poland', 'Slovakia') Slovakia\n",
      "('Slovakia', 'Hungary') Hungary ('Hungary', 'Romania') Romania ('Romania', 'Serbia') Serbia ('Serbia', 'Romania') Romania\n",
      "('Romania', 'Bulgaria') Bulgaria ('Bulgaria', 'North_Macedonia') North_Macedonia ('North_Macedonia', 'Kosovo') Kosovo ('Kosovo', 'Montenegro') Montenegro\n",
      "('Montenegro', 'Serbia') Serbia ('Serbia', 'North_Macedonia') North_Macedonia ('North_Macedonia', 'Bulgaria') Bulgaria ('Bulgaria', 'Serbia') Serbia\n",
      "('Serbia', 'Croatia') Croatia ('Croatia', 'Bosnia_and_Herzegovina') Bosnia_and_Herzegovina ('Bosnia_and_Herzegovina', 'Serbia') Serbia ('Serbia', 'Kosovo') Kosovo\n",
      "('Kosovo', 'Albania') Albania ('Albania', 'North_Macedonia') North_Macedonia ('North_Macedonia', 'Greece') Greece ('Greece', 'Albania') Albania\n",
      "('Albania', 'Serbia') Serbia ('Serbia', 'Hungary') Hungary ('Hungary', 'Austria') Austria ('Austria', 'Italy') Italy\n",
      "('Italy', 'France') France ('France', 'Monaco') Monaco ('Monaco', 'France') France ('France', 'Luxembourg') Luxembourg\n",
      "('Luxembourg', 'Belgium') Belgium ('Belgium', 'Netherlands') Netherlands ('Netherlands', 'Germany') Germany ('Germany', 'Luxembourg') Luxembourg\n",
      "('Luxembourg', 'France') France ('France', 'Switzerland') Switzerland ('Switzerland', 'Germany') Germany ('Germany', 'Denmark') Denmark\n",
      "('Denmark', 'Germany') Germany ('Germany', 'Poland') Poland ('Poland', 'Czech_Republic') Czech_Republic ('Czech_Republic', 'Slovakia') Slovakia\n",
      "('Slovakia', 'Austria') Austria ('Austria', 'Czech_Republic') Czech_Republic ('Czech_Republic', 'Germany') Germany ('Germany', 'Belgium') Belgium\n",
      "('Belgium', 'France') France ('France', 'Spain') Spain ('Spain', 'Portugal') Portugal ('Portugal', 'Spain') Spain\n",
      "('Spain', 'Andorra') Andorra ('Andorra', 'France') France ('France', 'Germany') Germany ('Germany', 'Austria') Austria\n",
      "('Austria', 'Slovakia') Slovakia ('Slovakia', 'Ukraine') Ukraine ('Ukraine', 'Belarus') Belarus ('Belarus', 'Russia') Russia\n",
      "('Russia', 'Georgia') Georgia ('Georgia', 'Turkey') Turkey ('Turkey', 'Greece') Greece ('Greece', 'Bulgaria') Bulgaria\n"
     ]
    }
   ],
   "source": [
    "europe.shortest_closed_walk_edges()"
   ]
  },
  {
   "cell_type": "markdown",
   "metadata": {},
   "source": [
    "(l)\n",
    "\n",
    "<img src=\"graph_europe_block_cut_tree.png\">"
   ]
  },
  {
   "cell_type": "code",
   "execution_count": 245,
   "metadata": {},
   "outputs": [
    {
     "name": "stdout",
     "output_type": "stream",
     "text": [
      "Biconnected components:\n",
      "{'Spain', 'Portugal'}\n",
      "{'Spain', 'France', 'Andorra'}\n",
      "{'Italy', 'San_Marino'}\n",
      "{'Vatican_City', 'Italy'}\n",
      "{'France', 'Monaco'}\n",
      "{'Norway', 'Russia', 'Finland', 'Sweden'}\n",
      "{'Germany', 'Denmark'}\n",
      "{'Belarus', 'Czech_Republic', 'Luxembourg', 'Croatia', 'Hungary', 'Lithuania', 'Greece', 'Slovenia', 'Netherlands', 'North_Macedonia', 'Bulgaria', 'Austria', 'Ukraine', 'Serbia', 'Latvia', 'Liechtenstein', 'Estonia', 'Germany', 'Montenegro', 'Romania', 'France', 'Switzerland', 'Poland', 'Kosovo', 'Belgium', 'Armenia', 'Albania', 'Turkey', 'Slovakia', 'Bosnia_and_Herzegovina', 'Italy', 'Russia', 'Moldova', 'Georgia'}\n",
      "{'Ireland', 'United_Kingdom'}\n"
     ]
    }
   ],
   "source": [
    "europe.all_blocks()"
   ]
  },
  {
   "cell_type": "markdown",
   "metadata": {},
   "source": [
    "Block-cut tree:\n",
    "\n",
    "<img src=\"block_cut_tree.png\">"
   ]
  },
  {
   "cell_type": "markdown",
   "metadata": {},
   "source": [
    "(m)"
   ]
  },
  {
   "cell_type": "code",
   "execution_count": 246,
   "metadata": {},
   "outputs": [
    {
     "name": "stdout",
     "output_type": "stream",
     "text": [
      "2-edge-connected components:\n",
      "[('Spain', 'Portugal')]\n",
      "[('France', 'Andorra'), ('Andorra', 'Spain'), ('Spain', 'France')]\n",
      "[('Italy', 'San_Marino')]\n",
      "[('Italy', 'Vatican_City')]\n",
      "[('France', 'Monaco')]\n",
      "[('Russia', 'Finland'), ('Finland', 'Sweden'), ('Sweden', 'Norway'), ('Norway', 'Finland'), ('Norway', 'Russia')]\n",
      "[('Germany', 'Denmark')]\n",
      "[('Armenia', 'Turkey'), ('Turkey', 'Bulgaria'), ('Bulgaria', 'Greece'), ('Greece', 'Albania'), ('Albania', 'Serbia'), ('Serbia', 'Bosnia_and_Herzegovina'), ('Bosnia_and_Herzegovina', 'Croatia'), ('Croatia', 'Hungary'), ('Hungary', 'Austria'), ('Austria', 'Germany'), ('Germany', 'Belgium'), ('Belgium', 'France'), ('France', 'Luxembourg'), ('Luxembourg', 'Belgium'), ('Luxembourg', 'Germany'), ('France', 'Germany'), ('France', 'Switzerland'), ('Switzerland', 'Austria'), ('Switzerland', 'Germany'), ('Switzerland', 'Italy'), ('Italy', 'Austria'), ('Italy', 'France'), ('Italy', 'Slovenia'), ('Slovenia', 'Austria'), ('Slovenia', 'Croatia'), ('Slovenia', 'Hungary'), ('Switzerland', 'Liechtenstein'), ('Liechtenstein', 'Austria'), ('Belgium', 'Netherlands'), ('Netherlands', 'Germany'), ('Germany', 'Czech_Republic'), ('Czech_Republic', 'Austria'), ('Czech_Republic', 'Slovakia'), ('Slovakia', 'Austria'), ('Slovakia', 'Hungary'), ('Slovakia', 'Poland'), ('Poland', 'Belarus'), ('Belarus', 'Russia'), ('Russia', 'Estonia'), ('Estonia', 'Latvia'), ('Latvia', 'Belarus'), ('Latvia', 'Lithuania'), ('Lithuania', 'Belarus'), ('Lithuania', 'Poland'), ('Lithuania', 'Russia'), ('Latvia', 'Russia'), ('Russia', 'Georgia'), ('Georgia', 'Armenia'), ('Georgia', 'Turkey'), ('Russia', 'Poland'), ('Russia', 'Ukraine'), ('Ukraine', 'Belarus'), ('Ukraine', 'Hungary'), ('Ukraine', 'Moldova'), ('Moldova', 'Romania'), ('Romania', 'Bulgaria'), ('Romania', 'Hungary'), ('Romania', 'Serbia'), ('Romania', 'Ukraine'), ('Ukraine', 'Poland'), ('Ukraine', 'Slovakia'), ('Poland', 'Czech_Republic'), ('Poland', 'Germany'), ('Hungary', 'Serbia'), ('Croatia', 'Serbia'), ('Croatia', 'Montenegro'), ('Montenegro', 'Bosnia_and_Herzegovina'), ('Montenegro', 'Kosovo'), ('Kosovo', 'Albania'), ('Kosovo', 'Serbia'), ('Kosovo', 'North_Macedonia'), ('North_Macedonia', 'Albania'), ('North_Macedonia', 'Bulgaria'), ('North_Macedonia', 'Greece'), ('North_Macedonia', 'Serbia'), ('Montenegro', 'Serbia'), ('Serbia', 'Bulgaria'), ('Greece', 'Turkey')]\n",
      "[('Ireland', 'United_Kingdom')]\n"
     ]
    }
   ],
   "source": [
    "europe.all_2_edge_connected_components()"
   ]
  },
  {
   "cell_type": "markdown",
   "metadata": {},
   "source": [
    "(n)\n",
    "\n",
    "SPQR - дерево. Было нарисовано в sagemathcell тут:\n",
    "https://sagecell.sagemath.org/?z=eJx9VE1r3DAQvS_sfxC52AGzNNBTIIc0tJvSpJQ0PQVjtPbEFitrXH3sV-l_70jxh3a37cn2zLw3b97IetXYMsNrWNSad41ZlKgUlFZshN0z0XaoLTPdT11YDTCfWXbDlr4y_ZXc6haU4Mk1e0menV7DPsmSJaCuKZhnya1c8ZB_SZYELoHS30GvKJQlX9DgBunlK3VoikdeQoWqBzpjNb0yz7wE3XLlqe8OUDbFE3RuJUXpySRu-DrQ3TtVc73vg0FWlny2XIbQVtgDaMlVRV8PgmgsKGNBKGo3nyUfQHLtjFf65IwJ4B9rzYXymr_hgOR2E3IPwjaO92oJXAvXevAnzVUYcxL94HbQrtDp2s8KtnnTYQISDXEU9Fncgz5AjRuh3vy808ht6DU69oiKVEOtMWCdpIGDSbH7g8-nrmbJE7ZcxYxh8qEPkUQW_qVlZGx-torreE3RVnrnCPDR2KCDxRb3flK6N46SR35FpPEKSffbavOphKDjnk72_Z8NDKc1VtWbmY9uUvLczqlq8I3KotGn43Nm_JGV4ywefqQ79rv_W3zNwHEu6fiA9OZ6w6fjmg1j5qf_ATvpn8enPDZ3InhEWdG8wbxxxmHuMFmkaJKeZ-xMPIvTQ69_GjoqGNqy2JhJwVBJ2Sg4csbh35fz2TOtm6638bZLLQX7K1CB3aJe7xg3TO3GcMttJ9FKsVp0e__m852081lFTGq3sFgM0CLcsKnvQrxUtHgVtdOQ0sOIA9ykV-8zdvXukrKErDTfFqYBKdMqo8U0heQrkObmWTvImMIKihIlamp0IUXd2JqY1UXPbRrcppd_AGj9-e0=&lang=sage&interacts=eJyLjgUAARUAuQ==\n",
    "\n",
    "<img src=\"spqr_tree.png\">"
   ]
  },
  {
   "cell_type": "markdown",
   "metadata": {},
   "source": [
    "(o) "
   ]
  },
  {
   "cell_type": "code",
   "execution_count": 247,
   "metadata": {},
   "outputs": [
    {
     "name": "stdout",
     "output_type": "stream",
     "text": [
      "Minimum_spanning_tree:\n",
      "Graph with 44 nodes and 43 edges\n"
     ]
    }
   ],
   "source": [
    "europe.make_weighted_graph()\n",
    "MST = europe.spanning_tree()\n",
    "#for i in MST.nodes(): # можно вывести список ребер для каждой вершины, но он очень большой, поэтому я не стала его здесь приводить\n",
    "#    print(MST.edges(i))\n",
    "print(MST)"
   ]
  },
  {
   "cell_type": "markdown",
   "metadata": {},
   "source": [
    "(p)\n",
    "Минимальное остовное дерево было изображено вручную с помощью онлайн редактора графов по списку ребер для каждой вершины, полученному в предыдущем пункте.\n",
    "\n",
    "<img src=\"spanning_tree.png\"> \n",
    "\n",
    "Из рисунка видно, что центроидом является Austria."
   ]
  },
  {
   "cell_type": "markdown",
   "metadata": {},
   "source": [
    "(q)"
   ]
  },
  {
   "cell_type": "code",
   "execution_count": 248,
   "metadata": {},
   "outputs": [
    {
     "name": "stdout",
     "output_type": "stream",
     "text": [
      "Prufer code: [0, 1, 4, 7, 7, 29, 26, 26, 10, 7, 6, 31, 29, 30, 16, 15, 14, 12, 13, 11, 24, 25, 37, 36, 21, 20, 10, 17, 17, 16, 11, 22, 20, 25, 23, 14, 11, 19, 18, 10, 8, 9]\n"
     ]
    }
   ],
   "source": [
    "europe.prufer()"
   ]
  },
  {
   "cell_type": "markdown",
   "metadata": {},
   "source": [
    "<img src=\"proofs_5_HW/1.png\">\n",
    "<img src=\"proofs_5_HW/2.png\">\n",
    "<img src=\"proofs_5_HW/3.png\">\n",
    "<img src=\"proofs_5_HW/4.png\">\n",
    "<img src=\"proofs_5_HW/5.png\">"
   ]
  }
 ],
 "metadata": {
  "kernelspec": {
   "display_name": "Python 3",
   "language": "python",
   "name": "python3"
  },
  "language_info": {
   "codemirror_mode": {
    "name": "ipython",
    "version": 3
   },
   "file_extension": ".py",
   "mimetype": "text/x-python",
   "name": "python",
   "nbconvert_exporter": "python",
   "pygments_lexer": "ipython3",
   "version": "3.8.1"
  },
  "pycharm": {
   "stem_cell": {
    "cell_type": "raw",
    "metadata": {
     "collapsed": false
    },
    "source": [
     "\n",
     "\n",
     "\n"
    ]
   }
  }
 },
 "nbformat": 4,
 "nbformat_minor": 0
}

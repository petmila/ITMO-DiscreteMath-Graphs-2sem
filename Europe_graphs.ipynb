{
 "cells": [
  {
   "cell_type": "markdown",
   "metadata": {},
   "source": [
    "HomeWork_5\n",
    "\n",
    "Петренко, М3104\n",
    "\n",
    "Задание 1\n",
    "\n",
    "Примечание: jupyter notebook для задания 1 есть в репозитории по ссылке https://github.com/petmila/My_graphs_discrete_math"
   ]
  },
  {
   "cell_type": "markdown",
   "metadata": {},
   "source": [
    "(a) Нарисовано с помощью сайта https://programforyou.ru/graph-redactor добавлением вершин и ребер вручную.\n",
    "\n",
    "<img src=\"graph_europe.png\"> "
   ]
  },
  {
   "cell_type": "markdown",
   "metadata": {},
   "source": [
    "Список вершин и их географических координат:"
   ]
  },
  {
   "cell_type": "code",
   "execution_count": 271,
   "metadata": {},
   "outputs": [],
   "source": [
    "geolock = {\"Armenia\":{\"height\": 40,\"width\": 44},\n",
    "           \"Albania\":{\"height\": 41,\"width\": 19},\n",
    "           \"Andorra\":{\"height\": 42,\"width\": 1},\n",
    "           \"Austria\":{\"height\": 48,\"width\": 16},\n",
    "           \"Belarus\":{\"height\": 53,\"width\": 27},\n",
    "           \"Belgium\":{\"height\": 50,\"width\": 4},\n",
    "           \"Bosnia_and_Herzegovina\":{\"height\": 43,\"width\": 18},\n",
    "           \"Bulgaria\":{\"height\": 42,\"width\": 23},\n",
    "           \"Croatia\":{\"height\": 45,\"width\": 15},\n",
    "           \"Czech_Republic\":{\"height\": 50,\"width\": 14},\n",
    "           \"Denmark\":{\"height\": 55,\"width\": 12},\n",
    "           \"Estonia\":{\"height\": 59,\"width\": 24},\n",
    "           \"Finland\":{\"height\": 60,\"width\": 24},\n",
    "           \"France\":{\"height\": 48,\"width\": 2},\n",
    "           \"Germany\":{\"height\": 52,\"width\": 13},\n",
    "           \"Georgia\":{\"height\": 41,\"width\": 44},\n",
    "           \"Greece\":{\"height\": 37,\"width\": 23},\n",
    "           \"Hungary\":{\"height\": 47,\"width\": 19},\n",
    "           \"Iceland\":{\"height\": 64,\"width\": 21},\n",
    "           \"Ireland\":{\"height\": 53,\"width\": 6},\n",
    "           \"Italy\":{\"height\": 41,\"width\": 12},\n",
    "           \"Kosovo\":{\"height\": 42,\"width\": 21},\n",
    "           \"Latvia\":{\"height\": 56,\"width\": 24},\n",
    "           \"Liechtenstein\":{\"height\": 47,\"width\": 9},\n",
    "           \"Lithuania\":{\"height\": 54,\"width\": 25},\n",
    "           \"Luxembourg\":{\"height\": 49,\"width\": 6},\n",
    "           \"Malta\":{\"height\": 35,\"width\": 14},\n",
    "           \"Moldova\":{\"height\": 47,\"width\": 28},\n",
    "           \"Monaco\":{\"height\": 47,\"width\": 9},\n",
    "           \"Montenegro\":{\"height\": 42,\"width\": 19},\n",
    "           \"Netherlands\":{\"height\": 52,\"width\": 4},\n",
    "           \"North_Macedonia\":{\"height\": 41,\"width\": 21},\n",
    "           \"Norway\":{\"height\": 59,\"width\": 10},\n",
    "           \"Poland\":{\"height\": 52,\"width\": 21},\n",
    "           \"Portugal\":{\"height\": 38,\"width\": 9},\n",
    "           \"Romania\":{\"height\": 47,\"width\": 19},\n",
    "           \"Russia\":{\"height\": 55,\"width\": 37},\n",
    "           \"San_Marino\":{\"height\": 43,\"width\": 12},\n",
    "           \"Serbia\":{\"height\": 44,\"width\": 20},\n",
    "           \"Slovakia\":{\"height\": 48,\"width\": 17},\n",
    "           \"Slovenia\":{\"height\": 46,\"width\": 14},\n",
    "           \"Spain\":{\"height\": 40,\"width\": 3},\n",
    "           \"Sweden\":{\"height\": 59,\"width\": 18},\n",
    "           \"Switzerland\":{\"height\": 46,\"width\": 7},\n",
    "           \"Turkey\":{\"height\": 39,\"width\": 32},\n",
    "           \"Ukraine\":{\"height\": 50,\"width\": 30},\n",
    "           \"United_Kingdom\":{\"height\": 51,\"width\": 0},\n",
    "           \"Vatican_City\":{\"height\": 41,\"width\": 12},\n",
    "           }"
   ]
  },
  {
   "cell_type": "code",
   "execution_count": 272,
   "metadata": {},
   "outputs": [],
   "source": [
    "import itertools\n",
    "import matplotlib.pyplot as plt\n",
    "import networkx as nx\n",
    "import numpy.random as rnd\n",
    "import haversine\n",
    "\n",
    "class Europe:\n",
    "    def __init__(self):\n",
    "        self.graph = nx.read_edgelist(\"graph.txt\")  # создание графа по списку ребер из файла(файл есть в репозитории)\n",
    "        self.graph.add_node('Malta')\n",
    "        self.graph.add_node('Iceland')  # добавляю островные государства\n",
    "        self.graph.add_node('Cyprus')\n",
    "\n",
    "        self.nodes_number = self.graph.number_of_nodes()\n",
    "        self.edges_number = self.graph.number_of_edges()\n",
    "\n",
    "        subgraphs = list(nx.connected_components(self.graph))\n",
    "        self.connected_nodes_list = {}\n",
    "        for subgraph in subgraphs:\n",
    "            if len(subgraph) > len(self.connected_nodes_list):\n",
    "                self.connected_nodes_list = subgraph\n",
    "        self.largest_connected_component = nx.subgraph(self.graph, self.connected_nodes_list)\n",
    "\n",
    "        self.degree = nx.degree(self.largest_connected_component)  # массив степеней всех вершин\n",
    "        min_degree = self.nodes_number + 1\n",
    "        max_degree = 0\n",
    "        for node in self.degree:\n",
    "            if node[1] < min_degree:\n",
    "                min_degree = node[1]\n",
    "            if node[1] > max_degree:\n",
    "                max_degree = node[1]\n",
    "        self.min_degree = min_degree\n",
    "        self.max_degree = max_degree\n",
    "\n",
    "        self.v_coloring = nx.greedy_color(self.largest_connected_component) # множество пар (вершина : номер цвета)\n",
    "        \n",
    "        self.dual = nx.line_graph(self.largest_connected_component) # создание дуального графа\n",
    "        self.e_coloring = nx.greedy_color(self.dual)\n",
    "\n",
    "        cliques = list(nx.find_cliques(self.largest_connected_component))\n",
    "        self.max_clique = cliques[0]\n",
    "        for clique in cliques:\n",
    "            if len(self.max_clique) < len(clique):\n",
    "                self.max_clique = clique\n",
    "            \n",
    "        self.max_stable_set = nx.maximal_independent_set(self.largest_connected_component)\n",
    "        # для невзвешенного графа данная функция сочтет вес дефолтным - 1\n",
    "        # так что она посчитает просто количество ребер\n",
    "        self.max_matching = nx.max_weight_matching(self.largest_connected_component)\n",
    "        self.v_cover = nx.approximation.min_weighted_vertex_cover(self.largest_connected_component)\n",
    "        self.e_cover = nx.min_edge_cover(self.largest_connected_component)\n",
    "\n",
    "        self.blocks = list(nx.biconnected_components(self.graph))\n",
    "\n",
    "\n",
    "    def number_of_nodes(self):\n",
    "        print(\"Number of nodes:\", self.nodes_number)\n",
    "\n",
    "    def number_of_edges(self):\n",
    "        print(\"Number of edges:\", self.edges_number)\n",
    "\n",
    "    def degree(self):\n",
    "        print(\"Minimum degree:\", self.min_degree)\n",
    "        print(\"Maximum degree:\", self.max_degree)\n",
    "\n",
    "    def diameter(self):\n",
    "        print(\"Diameter:\", nx.diameter(self.largest_connected_component))\n",
    "\n",
    "    def center(self):\n",
    "        print(\"Center:\", nx.center(self.largest_connected_component))\n",
    "\n",
    "    def radius(self):\n",
    "        print(\"Radius:\", nx.radius(self.largest_connected_component))\n",
    "\n",
    "    def girth(self):\n",
    "        subgraphs = list(nx.minimum_cycle_basis(self.largest_connected_component))\n",
    "        nodes_list = self.nodes_number * [0]\n",
    "        for subgraph in subgraphs:\n",
    "            if len(subgraph) < len(nodes_list):\n",
    "                nodes_list = subgraph\n",
    "        print(\"Girth:\", len(nodes_list))\n",
    "    \n",
    "    def vertex_coloring(self):\n",
    "        print(\"Minimum vertex coloring:\", max(self.v_coloring.values()))\n",
    "\n",
    "    def edge_coloring(self):\n",
    "        print(\"Minimum edge coloring:\", max(self.e_coloring.values()))\n",
    "\n",
    "    def maximum_clique(self):\n",
    "        print(\"Maximum clique:\", self.max_clique)\n",
    "\n",
    "    def maximum_stable_set(self):\n",
    "        print(\"Maximum stable set:\", self.max_stable_set)\n",
    "\n",
    "    def maximum_matching(self):\n",
    "        print(\"Maximum matching:\", self.max_matching)\n",
    "\n",
    "    def minimum_vertex_cover(self):\n",
    "        print(\"Minimum vertex cover:\", self.v_cover)\n",
    "    \n",
    "    def minimum_edge_cover(self):\n",
    "        print(\"Minimum edge cover:\", self.e_cover)\n",
    "\n",
    "    def all_blocks(self):\n",
    "        print(\"Biconnected components:\")\n",
    "        for item in self.blocks:\n",
    "            print(item)\n",
    "\n",
    "    def all_2_edge_connected_components(self):\n",
    "        print(\"2-edge-connected components:\")\n",
    "        for item in list(nx.biconnected_component_edges(self.graph)):\n",
    "            print(item)\n",
    "\n",
    "    def make_weighted_graph(self):\n",
    "        self.weighted_graph = nx.read_edgelist(\"graph.txt\")  # создание графа по списку ребер из файла(файл есть в репозитории)\n",
    "        self.weighted_graph.add_node('Malta')\n",
    "        self.weighted_graph.add_node('Iceland')  # добавляю островные государства\n",
    "        self.weighted_graph.add_node('Cyprus')\n",
    "\n",
    "        nx.set_node_attributes(self.weighted_graph, geolock)\n",
    "        edges_weight = {}\n",
    "        for item in nx.edges(self.weighted_graph):\n",
    "            edges_weight[item] = int(haversine.haversine((self.weighted_graph.nodes[item[0]][\"height\"], self.weighted_graph.nodes[item[0]][\"width\"]),\n",
    "            (self.weighted_graph.nodes[item[1]][\"height\"],self.weighted_graph.nodes[item[1]][\"width\"])))\n",
    "        nx.set_edge_attributes(self.weighted_graph , edges_weight, 'weight')\n",
    "\n",
    "        self.largest_weighted_connected_component = nx.subgraph(self.weighted_graph, self.connected_nodes_list)\n",
    "    def spanning_tree(self):\n",
    "        self.minimum_spanning_tree = nx.minimum_spanning_tree(self.largest_weighted_connected_component)\n",
    "        print(\"Minimum_spanning_tree:\")\n",
    "        return self.minimum_spanning_tree\n",
    "    \n",
    "    def prufer(self):\n",
    "        print(\"Prufer code:\", nx.to_prufer_sequence(nx.convert_node_labels_to_integers(self.minimum_spanning_tree)))"
   ]
  },
  {
   "cell_type": "markdown",
   "metadata": {},
   "source": [
    "(b)"
   ]
  },
  {
   "cell_type": "code",
   "execution_count": 273,
   "metadata": {},
   "outputs": [
    {
     "name": "stdout",
     "output_type": "stream",
     "text": [
      "Number of edges: 92\n",
      "Number of nodes: 49\n",
      "Diameter: 8\n",
      "Center: ['Poland']\n",
      "Radius: 4\n",
      "Girth: 3\n"
     ]
    }
   ],
   "source": [
    "europe = Europe()\n",
    "europe.number_of_edges()\n",
    "europe.number_of_nodes()\n",
    "europe.degree()\n",
    "europe.diameter()\n",
    "europe.center()\n",
    "europe.radius()\n",
    "europe.girth()\n"
   ]
  },
  {
   "cell_type": "code",
   "execution_count": 274,
   "metadata": {},
   "outputs": [
    {
     "name": "stdout",
     "output_type": "stream",
     "text": [
      "[{'Slovakia', 'Serbia', 'Austria', 'Croatia', 'Czech_Republic', 'North_Macedonia', 'Bosnia_and_Herzegovina', 'Italy', 'Romania', 'Germany', 'Montenegro', 'Albania', 'Hungary', 'Greece', 'France', 'Bulgaria', 'Kosovo', 'Slovenia', 'Ukraine', 'Switzerland', 'Poland'}, {'Russia', 'Belarus', 'Lithuania', 'Ukraine', 'Latvia', 'Poland'}, {'France', 'Germany', 'Luxembourg', 'Belgium'}]\n"
     ]
    }
   ],
   "source": [
    "print(nx.k_components(europe.largest_connected_component)[3])"
   ]
  },
  {
   "cell_type": "markdown",
   "metadata": {},
   "source": [
    "(c)"
   ]
  },
  {
   "cell_type": "code",
   "execution_count": 275,
   "metadata": {},
   "outputs": [
    {
     "name": "stdout",
     "output_type": "stream",
     "text": [
      "Minimum vertex coloring: 4\n"
     ]
    }
   ],
   "source": [
    "europe.vertex_coloring()"
   ]
  },
  {
   "cell_type": "markdown",
   "metadata": {},
   "source": [
    "(d)\n"
   ]
  },
  {
   "cell_type": "code",
   "execution_count": 276,
   "metadata": {},
   "outputs": [
    {
     "name": "stdout",
     "output_type": "stream",
     "text": [
      "Minimum edge coloring: 8\n"
     ]
    }
   ],
   "source": [
    "europe.edge_coloring()"
   ]
  },
  {
   "cell_type": "markdown",
   "metadata": {},
   "source": [
    "(e)"
   ]
  },
  {
   "cell_type": "code",
   "execution_count": 277,
   "metadata": {},
   "outputs": [
    {
     "name": "stdout",
     "output_type": "stream",
     "text": [
      "Maximum clique: ['Lithuania', 'Russia', 'Belarus', 'Poland']\n"
     ]
    }
   ],
   "source": [
    "europe.maximum_clique()"
   ]
  },
  {
   "cell_type": "markdown",
   "metadata": {},
   "source": [
    "(f)"
   ]
  },
  {
   "cell_type": "code",
   "execution_count": 278,
   "metadata": {},
   "outputs": [
    {
     "name": "stdout",
     "output_type": "stream",
     "text": [
      "Maximum stable set: ['Denmark', 'Estonia', 'Hungary', 'Vatican_City', 'Andorra', 'Moldova', 'Liechtenstein', 'Belarus', 'Portugal', 'Kosovo', 'Bulgaria', 'Netherlands', 'Finland', 'Armenia', 'Czech_Republic', 'Luxembourg', 'San_Marino', 'Bosnia_and_Herzegovina', 'Monaco']\n"
     ]
    }
   ],
   "source": [
    "europe.maximum_stable_set()"
   ]
  },
  {
   "cell_type": "markdown",
   "metadata": {},
   "source": [
    "(g)"
   ]
  },
  {
   "cell_type": "code",
   "execution_count": 279,
   "metadata": {},
   "outputs": [
    {
     "name": "stdout",
     "output_type": "stream",
     "text": [
      "Maximum matching: {('Denmark', 'Germany'), ('Austria', 'Slovenia'), ('Vatican_City', 'Italy'), ('Lithuania', 'Belarus'), ('Norway', 'Sweden'), ('Finland', 'Russia'), ('Estonia', 'Latvia'), ('Poland', 'Czech_Republic'), ('Montenegro', 'Bosnia_and_Herzegovina'), ('Turkey', 'Armenia'), ('Netherlands', 'Belgium'), ('Portugal', 'Spain'), ('Liechtenstein', 'Switzerland'), ('Croatia', 'Hungary'), ('Monaco', 'France'), ('Kosovo', 'Serbia'), ('Moldova', 'Romania'), ('Bulgaria', 'Greece'), ('Ukraine', 'Slovakia'), ('North_Macedonia', 'Albania')}\n"
     ]
    }
   ],
   "source": [
    "europe.maximum_matching()"
   ]
  },
  {
   "cell_type": "markdown",
   "metadata": {},
   "source": [
    "(h)"
   ]
  },
  {
   "cell_type": "code",
   "execution_count": 280,
   "metadata": {},
   "outputs": [
    {
     "name": "stdout",
     "output_type": "stream",
     "text": [
      "Minimum vertex cover: {'Slovakia', 'Georgia', 'Austria', 'Andorra', 'Czech_Republic', 'Bosnia_and_Herzegovina', 'Romania', 'Germany', 'Russia', 'Hungary', 'Greece', 'Bulgaria', 'Kosovo', 'Belarus', 'Serbia', 'Croatia', 'Spain', 'Belgium', 'North_Macedonia', 'Turkey', 'Italy', 'Armenia', 'Finland', 'Albania', 'Latvia', 'France', 'Slovenia', 'Ukraine', 'Sweden', 'Switzerland', 'Poland'}\n"
     ]
    }
   ],
   "source": [
    "europe.minimum_vertex_cover()"
   ]
  },
  {
   "cell_type": "markdown",
   "metadata": {},
   "source": [
    "(i)"
   ]
  },
  {
   "cell_type": "code",
   "execution_count": 281,
   "metadata": {},
   "outputs": [
    {
     "name": "stdout",
     "output_type": "stream",
     "text": [
      "Minimum edge cover: {('Denmark', 'Germany'), ('Belgium', 'Luxembourg'), ('Austria', 'Slovenia'), ('Vatican_City', 'Italy'), ('Lithuania', 'Belarus'), ('Norway', 'Sweden'), ('Finland', 'Russia'), ('Estonia', 'Latvia'), ('Poland', 'Czech_Republic'), ('Andorra', 'Spain'), ('Montenegro', 'Bosnia_and_Herzegovina'), ('Turkey', 'Armenia'), ('Armenia', 'Georgia'), ('Netherlands', 'Belgium'), ('Portugal', 'Spain'), ('Luxembourg', 'Belgium'), ('Liechtenstein', 'Switzerland'), ('Italy', 'San_Marino'), ('Croatia', 'Hungary'), ('Monaco', 'France'), ('Kosovo', 'Serbia'), ('Spain', 'Andorra'), ('Moldova', 'Romania'), ('Bulgaria', 'Greece'), ('Ukraine', 'Slovakia'), ('Georgia', 'Armenia'), ('North_Macedonia', 'Albania'), ('San_Marino', 'Italy')}\n"
     ]
    }
   ],
   "source": [
    "europe.minimum_edge_cover()"
   ]
  },
  {
   "cell_type": "markdown",
   "metadata": {},
   "source": [
    "(j)"
   ]
  },
  {
   "cell_type": "markdown",
   "metadata": {},
   "source": [
    "(k)"
   ]
  },
  {
   "cell_type": "markdown",
   "metadata": {},
   "source": [
    "(l)"
   ]
  },
  {
   "cell_type": "code",
   "execution_count": 282,
   "metadata": {},
   "outputs": [
    {
     "name": "stdout",
     "output_type": "stream",
     "text": [
      "Biconnected components:\n",
      "{'Portugal', 'Spain'}\n",
      "{'Andorra', 'France', 'Spain'}\n",
      "{'San_Marino', 'Italy'}\n",
      "{'Vatican_City', 'Italy'}\n",
      "{'France', 'Monaco'}\n",
      "{'Norway', 'Russia', 'Finland', 'Sweden'}\n",
      "{'Germany', 'Denmark'}\n",
      "{'Slovakia', 'Georgia', 'Austria', 'Czech_Republic', 'Lithuania', 'Bosnia_and_Herzegovina', 'Romania', 'Germany', 'Russia', 'Hungary', 'Greece', 'Bulgaria', 'Luxembourg', 'Belarus', 'Kosovo', 'Serbia', 'Croatia', 'Belgium', 'North_Macedonia', 'Turkey', 'Italy', 'Netherlands', 'Armenia', 'Montenegro', 'Albania', 'Latvia', 'France', 'Moldova', 'Liechtenstein', 'Slovenia', 'Ukraine', 'Switzerland', 'Poland', 'Estonia'}\n",
      "{'Ireland', 'United_Kingdom'}\n"
     ]
    }
   ],
   "source": [
    "europe.all_blocks()"
   ]
  },
  {
   "cell_type": "markdown",
   "metadata": {},
   "source": [
    "(m)"
   ]
  },
  {
   "cell_type": "code",
   "execution_count": 283,
   "metadata": {},
   "outputs": [
    {
     "name": "stdout",
     "output_type": "stream",
     "text": [
      "2-edge-connected components:\n",
      "[('Spain', 'Portugal')]\n",
      "[('France', 'Andorra'), ('Andorra', 'Spain'), ('Spain', 'France')]\n",
      "[('Italy', 'San_Marino')]\n",
      "[('Italy', 'Vatican_City')]\n",
      "[('France', 'Monaco')]\n",
      "[('Russia', 'Finland'), ('Finland', 'Sweden'), ('Sweden', 'Norway'), ('Norway', 'Finland'), ('Norway', 'Russia')]\n",
      "[('Germany', 'Denmark')]\n",
      "[('Armenia', 'Turkey'), ('Turkey', 'Bulgaria'), ('Bulgaria', 'Greece'), ('Greece', 'Albania'), ('Albania', 'Serbia'), ('Serbia', 'Bosnia_and_Herzegovina'), ('Bosnia_and_Herzegovina', 'Croatia'), ('Croatia', 'Hungary'), ('Hungary', 'Austria'), ('Austria', 'Germany'), ('Germany', 'Belgium'), ('Belgium', 'France'), ('France', 'Luxembourg'), ('Luxembourg', 'Belgium'), ('Luxembourg', 'Germany'), ('France', 'Germany'), ('France', 'Switzerland'), ('Switzerland', 'Austria'), ('Switzerland', 'Germany'), ('Switzerland', 'Italy'), ('Italy', 'Austria'), ('Italy', 'France'), ('Italy', 'Slovenia'), ('Slovenia', 'Austria'), ('Slovenia', 'Croatia'), ('Slovenia', 'Hungary'), ('Switzerland', 'Liechtenstein'), ('Liechtenstein', 'Austria'), ('Belgium', 'Netherlands'), ('Netherlands', 'Germany'), ('Germany', 'Czech_Republic'), ('Czech_Republic', 'Austria'), ('Czech_Republic', 'Slovakia'), ('Slovakia', 'Austria'), ('Slovakia', 'Hungary'), ('Slovakia', 'Poland'), ('Poland', 'Belarus'), ('Belarus', 'Russia'), ('Russia', 'Estonia'), ('Estonia', 'Latvia'), ('Latvia', 'Belarus'), ('Latvia', 'Lithuania'), ('Lithuania', 'Belarus'), ('Lithuania', 'Poland'), ('Lithuania', 'Russia'), ('Latvia', 'Russia'), ('Russia', 'Georgia'), ('Georgia', 'Armenia'), ('Georgia', 'Turkey'), ('Russia', 'Poland'), ('Russia', 'Ukraine'), ('Ukraine', 'Belarus'), ('Ukraine', 'Hungary'), ('Ukraine', 'Moldova'), ('Moldova', 'Romania'), ('Romania', 'Bulgaria'), ('Romania', 'Hungary'), ('Romania', 'Serbia'), ('Romania', 'Ukraine'), ('Ukraine', 'Poland'), ('Ukraine', 'Slovakia'), ('Poland', 'Czech_Republic'), ('Poland', 'Germany'), ('Hungary', 'Serbia'), ('Croatia', 'Serbia'), ('Croatia', 'Montenegro'), ('Montenegro', 'Bosnia_and_Herzegovina'), ('Montenegro', 'Kosovo'), ('Kosovo', 'Albania'), ('Kosovo', 'Serbia'), ('Kosovo', 'North_Macedonia'), ('North_Macedonia', 'Albania'), ('North_Macedonia', 'Bulgaria'), ('North_Macedonia', 'Greece'), ('North_Macedonia', 'Serbia'), ('Montenegro', 'Serbia'), ('Serbia', 'Bulgaria'), ('Greece', 'Turkey')]\n",
      "[('Ireland', 'United_Kingdom')]\n"
     ]
    }
   ],
   "source": [
    "europe.all_2_edge_connected_components()"
   ]
  },
  {
   "cell_type": "markdown",
   "metadata": {},
   "source": [
    "(n)"
   ]
  },
  {
   "cell_type": "markdown",
   "metadata": {},
   "source": [
    "(o)"
   ]
  },
  {
   "cell_type": "code",
   "execution_count": 284,
   "metadata": {},
   "outputs": [
    {
     "name": "stdout",
     "output_type": "stream",
     "text": [
      "Minimum_spanning_tree:\n",
      "Graph with 44 nodes and 43 edges\n"
     ]
    }
   ],
   "source": [
    "europe.make_weighted_graph()\n",
    "MST = europe.spanning_tree()\n",
    "#for i in MST.nodes():\n",
    "#    print(MST.edges(i))\n",
    "print(MST)"
   ]
  },
  {
   "cell_type": "markdown",
   "metadata": {},
   "source": [
    "(p)\n",
    "Минимальное остовное дерево было изображено вручную с помощью онлайн редактора графов по списку ребер для каждой вершины, полученному в предыдущем пункте.\n",
    "<img src=\"spanning_tree.png\"> \n",
    "Из рисунка видно, что центроидом является Austria."
   ]
  },
  {
   "cell_type": "markdown",
   "metadata": {},
   "source": [
    "(q)"
   ]
  },
  {
   "cell_type": "code",
   "execution_count": 285,
   "metadata": {},
   "outputs": [
    {
     "name": "stdout",
     "output_type": "stream",
     "text": [
      "Prufer code: [0, 1, 4, 7, 7, 29, 26, 26, 10, 7, 6, 31, 29, 30, 16, 15, 14, 12, 13, 11, 24, 25, 37, 36, 21, 20, 10, 17, 17, 16, 11, 22, 20, 25, 23, 14, 11, 19, 18, 10, 8, 9]\n"
     ]
    }
   ],
   "source": [
    "europe.prufer()"
   ]
  }
 ],
 "metadata": {
  "kernelspec": {
   "display_name": "Python 3",
   "language": "python",
   "name": "python3"
  },
  "language_info": {
   "codemirror_mode": {
    "name": "ipython",
    "version": 3
   },
   "file_extension": ".py",
   "mimetype": "text/x-python",
   "name": "python",
   "nbconvert_exporter": "python",
   "pygments_lexer": "ipython3",
   "version": "3.8.1"
  },
  "pycharm": {
   "stem_cell": {
    "cell_type": "raw",
    "metadata": {
     "collapsed": false
    },
    "source": [
     "\n",
     "\n",
     "\n"
    ]
   }
  }
 },
 "nbformat": 4,
 "nbformat_minor": 0
}
